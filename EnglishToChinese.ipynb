{
 "cells": [
  {
   "cell_type": "markdown",
   "metadata": {
    "toc": true
   },
   "source": [
    "<h1>Table of Contents<span class=\"tocSkip\"></span></h1>\n",
    "<div class=\"toc\"><ul class=\"toc-item\"><li><span><a href=\"#Preprocessing\" data-toc-modified-id=\"Preprocessing-1\">Preprocessing</a></span></li><li><span><a href=\"#Model\" data-toc-modified-id=\"Model-2\">Model</a></span><ul class=\"toc-item\"><li><span><a href=\"#MLP\" data-toc-modified-id=\"MLP-2.1\">MLP</a></span></li><li><span><a href=\"#GRU\" data-toc-modified-id=\"GRU-2.2\">GRU</a></span></li></ul></li></ul></div>"
   ]
  },
  {
   "cell_type": "markdown",
   "metadata": {},
   "source": [
    "# Preprocessing"
   ]
  },
  {
   "cell_type": "code",
   "execution_count": 1,
   "metadata": {},
   "outputs": [],
   "source": [
    "import torchtext\n",
    "import spacy\n",
    "\n",
    "#Embeddings\n",
    "word_dim = 100\n",
    "glove = torchtext.vocab.GloVe(name='6B', dim=word_dim)\n",
    "\n",
    "#tokenizer model\n",
    "nlp_en = spacy.load('en300')"
   ]
  },
  {
   "cell_type": "code",
   "execution_count": 2,
   "metadata": {},
   "outputs": [],
   "source": [
    "from gensim.models import Word2Vec\n",
    "from gensim.models import KeyedVectors\n",
    "\n",
    "wv_from_bin = KeyedVectors.load_word2vec_format(\"data/model.bin\", binary=True) "
   ]
  },
  {
   "cell_type": "code",
   "execution_count": 216,
   "metadata": {},
   "outputs": [],
   "source": [
    "import string\n",
    "import jieba\n",
    "import gensim \n",
    "import spacy\n",
    "import numpy as np\n",
    "import torch\n",
    "\n",
    "stop_words = [line.rstrip() for line in open('data/chinese_stop_words.txt',\"r\", encoding=\"utf-8\") ]\n",
    "\n",
    "def get_sentence_vector_zh(line, mode):\n",
    "    vectors = []\n",
    "    for w in line:\n",
    "        try:\n",
    "            emb = wv_from_bin[w]\n",
    "            vectors.append(emb)\n",
    "        except:\n",
    "            pass #Do not add if the word is out of vocabulary\n",
    "    if vectors:\n",
    "        vectors = np.array(vectors)\n",
    "        # Outputs vector of shape (1)\n",
    "        if mode==0:\n",
    "            vectors = np.mean(vectors) \n",
    "        # Outputs vector of shape (word_dim)\n",
    "        elif mode==1:\n",
    "            vectors = np.mean(vectors, axis=0)\n",
    "        # Outputs vector of shape (len(line), word_dim)\n",
    "        elif mode==2:\n",
    "            vectors = vectors\n",
    "        return vectors\n",
    "    else:\n",
    "        if mode==0 or mode==1:\n",
    "            return np.zeros(word_dim)\n",
    "        elif mode==2:\n",
    "            return np.zeros((1, word_dim), dtype=np.float32)\n",
    "\n",
    "\n",
    "def processing_zh(sentence):\n",
    "    seg_list = jieba.lcut(sentence,cut_all=True)\n",
    "    doc = [word for word in seg_list if word not in stop_words]\n",
    "    docs = [e for e in doc if e.isalnum()]\n",
    "    return docs\n",
    "\n",
    "\n",
    "def get_sentence_embeddings_zh(f, mode=0):\n",
    "    file = open(f, encoding=\"utf8\") \n",
    "    lines = file.readlines() \n",
    "    sentences_vectors = []\n",
    "    for l in lines:\n",
    "        sent  = processing_zh(l)\n",
    "        vec = get_sentence_vector_zh(sent, mode=mode)\n",
    "        if vec is not None:\n",
    "            sentences_vectors.append(vec)\n",
    "        else:\n",
    "            print(l)\n",
    "    return sentences_vectors"
   ]
  },
  {
   "cell_type": "code",
   "execution_count": 210,
   "metadata": {},
   "outputs": [],
   "source": [
    "from nltk.corpus import stopwords\n",
    "from tqdm import tqdm \n",
    "\n",
    "stop_words_en = set(stopwords.words('english'))\n",
    "\n",
    "def preprocess(sentence,nlp):\n",
    "    text = sentence.lower()\n",
    "    doc = [token.lemma_ for token in  nlp.tokenizer(text)]\n",
    "    doc = [word for word in doc if word not in stop_words_en]\n",
    "    doc = [word for word in doc if word.isalpha()] #restricts string to alphabetic characters only\n",
    "    return doc\n",
    "\n",
    "def get_word_vector(embeddings, word):\n",
    "    try:\n",
    "        vec = embeddings.vectors[embeddings.stoi[word]]\n",
    "        return vec\n",
    "    except KeyError:\n",
    "        #print(f\"Word {word} does not exist\")\n",
    "        pass\n",
    "\n",
    "def get_sentence_vector(embeddings,line,mode):\n",
    "    vectors = []\n",
    "    for w in line:\n",
    "        emb = get_word_vector(embeddings,w)\n",
    "        #do not add if the word is out of vocabulary\n",
    "        if emb is not None:\n",
    "            vectors.append(emb)\n",
    "    # Outputs vector of shape (1)\n",
    "    if mode==0:\n",
    "        vectors = torch.mean(torch.stack(vectors))\n",
    "    # Outputs vector of shape (word_dim)\n",
    "    elif mode==1:\n",
    "        vectors = torch.mean(torch.stack(vectors), axis=0)\n",
    "    # Outputs vector of shape (len(line), word_dim)\n",
    "    elif mode==2:\n",
    "        vectors = torch.stack(vectors)\n",
    "    return vectors.data.numpy()\n",
    "\n",
    "\n",
    "def get_embeddings(f,embeddings,lang, mode=0):\n",
    "    file = open(f, encoding=\"utf8\") \n",
    "    lines = file.readlines() \n",
    "    sentences_vectors = []\n",
    "    for l in lines:\n",
    "        sentence = preprocess(l,lang)\n",
    "        try:\n",
    "            vec = get_sentence_vector(embeddings,sentence,mode)\n",
    "            sentences_vectors.append(vec)\n",
    "        except:\n",
    "            if mode == 0 or mode == 1:\n",
    "                sentences_vectors.append(np.zeros(word_dim))\n",
    "            if mode == 2:\n",
    "                print(\"Check if the dimension is correct\")\n",
    "                sentences_vectors.append(np.zeros((1, word_dim), dtype=np.float32))\n",
    "    return sentences_vectors"
   ]
  },
  {
   "cell_type": "code",
   "execution_count": 5,
   "metadata": {
    "scrolled": true
   },
   "outputs": [
    {
     "name": "stderr",
     "output_type": "stream",
     "text": [
      "Building prefix dict from the default dictionary ...\n",
      "Loading model from cache C:\\Users\\gmler\\AppData\\Local\\Temp\\jieba.cache\n",
      "Loading model cost 0.720 seconds.\n",
      "Prefix dict has been built successfully.\n"
     ]
    }
   ],
   "source": [
    "import spacy\n",
    "import torchtext\n",
    "from torchtext import data\n",
    "\n",
    "zh_train_mt = get_sentence_embeddings_zh(\"data/en-zh/train.enzh.mt\", mode=1)\n",
    "zh_train_src = get_embeddings(\"data/en-zh/train.enzh.src\", glove, nlp_en, mode=1)\n",
    "f_train_scores = open(\"data/en-zh/train.enzh.scores\",'r')\n",
    "zh_train_scores = f_train_scores.readlines()\n",
    "\n",
    "zh_val_src = get_embeddings(\"data/en-zh/dev.enzh.src\", glove, nlp_en, mode=1)\n",
    "zh_val_mt = get_sentence_embeddings_zh(\"data/en-zh/dev.enzh.mt\", mode=1)\n",
    "f_val_scores = open(\"data/en-zh/dev.enzh.scores\",'r')\n",
    "zh_val_scores = f_val_scores.readlines()"
   ]
  },
  {
   "cell_type": "code",
   "execution_count": 6,
   "metadata": {},
   "outputs": [
    {
     "name": "stdout",
     "output_type": "stream",
     "text": [
      "Training mt: 7000 Training src: 7000\n",
      "Validation mt: 1000 Validation src: 1000\n"
     ]
    }
   ],
   "source": [
    "print(f\"Training mt: {len(zh_train_mt)} Training src: {len(zh_train_src)}\")\n",
    "print(f\"Validation mt: {len(zh_val_mt)} Validation src: {len(zh_val_src)}\")"
   ]
  },
  {
   "cell_type": "code",
   "execution_count": 8,
   "metadata": {},
   "outputs": [],
   "source": [
    "import numpy as np\n",
    "\n",
    "X_train = np.concatenate((np.asarray(zh_train_src), np.asarray(zh_train_mt)),axis=1) #[np.array(zh_train_src),np.array(zh_train_mt)]\n",
    "X_train_zh = np.array(X_train).transpose()\n",
    "\n",
    "X_val = np.concatenate((zh_val_src, zh_val_mt),axis=1) # [np.array(zh_val_src),np.array(zh_val_mt)]\n",
    "X_val_zh = np.array(X_val).transpose()\n",
    "\n",
    "#Scores\n",
    "train_scores = np.array(zh_train_scores).astype(float)\n",
    "y_train_zh = train_scores\n",
    "\n",
    "val_scores = np.array(zh_val_scores).astype(float)\n",
    "y_val_zh = val_scores"
   ]
  },
  {
   "cell_type": "code",
   "execution_count": 9,
   "metadata": {},
   "outputs": [
    {
     "name": "stdout",
     "output_type": "stream",
     "text": [
      "(7000, 200)\n"
     ]
    }
   ],
   "source": [
    "print(X_train.shape)"
   ]
  },
  {
   "cell_type": "markdown",
   "metadata": {},
   "source": [
    "# Model"
   ]
  },
  {
   "cell_type": "markdown",
   "metadata": {},
   "source": [
    "## MLP"
   ]
  },
  {
   "cell_type": "code",
   "execution_count": 493,
   "metadata": {},
   "outputs": [],
   "source": [
    "def rmse(predictions, targets):\n",
    "    res = np.sqrt(((predictions - targets) ** 2).mean())\n",
    "    return res"
   ]
  },
  {
   "cell_type": "code",
   "execution_count": 59,
   "metadata": {},
   "outputs": [],
   "source": [
    "import torch\n",
    "import torch.nn.functional as F\n",
    "import torch.nn as nn\n",
    "\n",
    "class Net(torch.nn.Module):\n",
    "    def __init__(self, n_feature, n_output):\n",
    "        super(Net, self).__init__()\n",
    "        self.hidden = torch.nn.Linear(n_feature, 256)  \n",
    "        self.hidden2 = torch.nn.Linear(256, 64)\n",
    "        self.hidden3 = torch.nn.Linear(64, 16)\n",
    "        self.predict = torch.nn.Linear(16, n_output) \n",
    "\n",
    "    def forward(self, x):\n",
    "        x = F.relu(self.hidden(x))  \n",
    "        x = F.relu(self.hidden2(x))  \n",
    "        x = F.relu(self.hidden3(x))  \n",
    "        x = self.predict(x)\n",
    "        return x"
   ]
  },
  {
   "cell_type": "code",
   "execution_count": 417,
   "metadata": {},
   "outputs": [],
   "source": [
    "def plot_loss(losses):\n",
    "    import matplotlib.pyplot as plt\n",
    "    plt.plot(list(range(len(losses))), losses)\n",
    "    plt.xlabel(\"Steps\")\n",
    "    plt.ylabel(\"Loss\")\n",
    "    plt.title(\"Training\")\n",
    "    plt.yscale('log')\n",
    "    plt.show()"
   ]
  },
  {
   "cell_type": "code",
   "execution_count": 26,
   "metadata": {},
   "outputs": [
    {
     "name": "stdout",
     "output_type": "stream",
     "text": [
      "Steps: 0 RMSE: 0.9291300791139017 Pearson -0.053951107931420175\n",
      "Steps: 2000 RMSE: 0.9048851860453592 Pearson 0.1486338173531659\n",
      "Steps: 4000 RMSE: 0.8912097192606878 Pearson 0.20137036168628714\n",
      "Steps: 6000 RMSE: 0.8857761545875287 Pearson 0.2331506609074092\n",
      "Steps: 8000 RMSE: 0.8925346237646622 Pearson 0.24284690217592694\n",
      "Steps: 10000 RMSE: 0.8871090091547369 Pearson 0.23298747744557943\n",
      "Steps: 12000 RMSE: 0.906784897323265 Pearson 0.19675027582230295\n",
      "Steps: 14000 RMSE: 0.9255454088271616 Pearson 0.18469291260204176\n",
      "Steps: 16000 RMSE: 0.9680189245085403 Pearson 0.17707735223519563\n",
      "Steps: 18000 RMSE: 0.9547417582343691 Pearson 0.14707985994047298\n"
     ]
    },
    {
     "data": {
      "text/plain": [
       "<Figure size 640x480 with 1 Axes>"
      ]
     },
     "metadata": {},
     "output_type": "display_data"
    }
   ],
   "source": [
    "import matplotlib.pyplot as plt\n",
    "from scipy.stats.stats import pearsonr\n",
    "\n",
    "net = Net(n_feature=200, n_output=1)     # define the network\n",
    "optimizer = torch.optim.SGD(net.parameters(), lr=0.01)\n",
    "loss_func = torch.nn.MSELoss()  \n",
    "batch_size = 64\n",
    "steps = 20000\n",
    "losses = []\n",
    "\n",
    "for t in range(steps):\n",
    "    curr_bat = np.random.choice(len(X_train), batch_size, replace=False)\n",
    "    x = torch.Tensor(X_train[curr_bat])\n",
    "    y = torch.Tensor(y_train_zh[curr_bat]).view(batch_size,-1)\n",
    "    optimizer.zero_grad()\n",
    "    prediction = net(x)    \n",
    "    loss = loss_func(prediction, y)\n",
    "    losses += [loss.item()]\n",
    "    optimizer.zero_grad()   \n",
    "    loss.backward()        \n",
    "    optimizer.step()    \n",
    "    if t % (steps // 10) == 0:\n",
    "        with torch.no_grad():\n",
    "            predictions = net(torch.Tensor(X_val)).flatten().data.numpy()\n",
    "            pearson = pearsonr(y_val_zh, predictions)\n",
    "            print(f'Steps: {t} RMSE: {rmse(predictions,y_val_zh)} Pearson {pearson[0]}')\n",
    "plot_loss(losses)"
   ]
  },
  {
   "cell_type": "markdown",
   "metadata": {},
   "source": [
    "## GRU"
   ]
  },
  {
   "cell_type": "code",
   "execution_count": 217,
   "metadata": {},
   "outputs": [],
   "source": [
    "zh_train_mt_m2 = get_sentence_embeddings_zh(\"data/en-zh/train.enzh.mt\", mode=2)\n",
    "zh_train_src_m2 = get_embeddings(\"data/en-zh/train.enzh.src\", glove, nlp_en, mode=2)\n",
    "\n",
    "zh_val_src_m2 = get_embeddings(\"data/en-zh/dev.enzh.src\", glove, nlp_en, mode=2)\n",
    "zh_val_mt_m2 = get_sentence_embeddings_zh(\"data/en-zh/dev.enzh.mt\", mode=2)"
   ]
  },
  {
   "cell_type": "code",
   "execution_count": 223,
   "metadata": {},
   "outputs": [],
   "source": [
    "def pad_to_max_length(sentences):\n",
    "    max_len = max(l.shape[0] for l in sentences)\n",
    "    return torch.stack(tuple(\n",
    "                        F.pad(input=torch.tensor(l), pad=(0, 0, 0, max_len - l.shape[0]), mode='constant', value=0) \n",
    "                        for l in sentences))\n",
    "    \n",
    "zh_train_mt_pad = pad_to_max_length(zh_train_mt_m2)\n",
    "zh_train_src_pad = pad_to_max_length(zh_train_src_m2)\n",
    "zh_val_src_pad = pad_to_max_length(zh_val_src_m2)\n",
    "zh_val_mt_pad = pad_to_max_length(zh_val_mt_m2)"
   ]
  },
  {
   "cell_type": "code",
   "execution_count": 395,
   "metadata": {},
   "outputs": [],
   "source": [
    "batch_size = 64\n",
    "# train_data = TensorDataset(zh_train_src_m2, torch.from_numpy(train_y))\n",
    "# train_loader = DataLoader(train_data, shuffle=True, batch_size=batch_size, drop_last=True)"
   ]
  },
  {
   "cell_type": "code",
   "execution_count": 473,
   "metadata": {},
   "outputs": [],
   "source": [
    "class GRUNet(nn.Module):\n",
    "    def __init__(self, input_dim, hidden_dim, output_dim, fc_dim, n_layers, drop_prob=0):\n",
    "        super(GRUNet, self).__init__()\n",
    "        self.hidden_dim = hidden_dim\n",
    "        self.n_layers = n_layers\n",
    "        \n",
    "        self.gru_en = nn.GRU(input_dim, hidden_dim, n_layers, batch_first=True, dropout=drop_prob).cuda()\n",
    "        self.gru_zh = nn.GRU(input_dim, hidden_dim, n_layers, batch_first=True, dropout=drop_prob).cuda()\n",
    "        self.fc = nn.Linear(fc_dim, output_dim).cuda()\n",
    "        self.relu = nn.ReLU()\n",
    "        \n",
    "    def forward(self, x, h):\n",
    "        x_en, x_zh = x[0].to(\"cuda\"), x[1].to(\"cuda\")\n",
    "        h_en, h_zh = h[0].cuda(), h[1].cuda()\n",
    "        out_en, h_en = self.gru_en(x_en, h_en)\n",
    "        out_zh, h_zh = self.gru_zh(x_zh, h_zh)\n",
    "        out = torch.cat((out_en, out_zh), 1)\n",
    "        out = torch.mean(out, 1)\n",
    "        out = self.fc(out)\n",
    "        return out, h\n",
    "    \n",
    "    def init_hidden(self, batch_size):\n",
    "        weight = next(self.parameters()).data\n",
    "        hidden = weight.new(self.n_layers, batch_size, self.hidden_dim).zero_().to(\"cuda\")\n",
    "        return hidden"
   ]
  },
  {
   "cell_type": "code",
   "execution_count": 500,
   "metadata": {},
   "outputs": [
    {
     "name": "stdout",
     "output_type": "stream",
     "text": [
      "Steps: 0 RMSE: 0.9006640315055847 Pearson -0.0650066475502234\n",
      "Steps: 250 RMSE: 0.8969222903251648 Pearson 0.13456026309632851\n",
      "Steps: 500 RMSE: 0.8936777710914612 Pearson 0.17747630749734372\n",
      "Steps: 750 RMSE: 0.8914663791656494 Pearson 0.18379534076263526\n",
      "Steps: 1000 RMSE: 0.8898171782493591 Pearson 0.188652588107861\n",
      "Steps: 1250 RMSE: 0.888627290725708 Pearson 0.19169764872310477\n",
      "Steps: 1500 RMSE: 0.887125551700592 Pearson 0.1936821201664863\n",
      "Steps: 1750 RMSE: 0.8842979073524475 Pearson 0.19878911710027897\n",
      "Steps: 2000 RMSE: 0.8828738331794739 Pearson 0.20093767500287904\n",
      "Steps: 2250 RMSE: 0.8810858130455017 Pearson 0.20487799107576637\n",
      "Steps: 2500 RMSE: 0.8802400231361389 Pearson 0.21073678920888378\n",
      "Steps: 2750 RMSE: 0.8778890371322632 Pearson 0.21552955679595906\n",
      "Steps: 3000 RMSE: 0.876763105392456 Pearson 0.2196039356955435\n",
      "Steps: 3250 RMSE: 0.8756016492843628 Pearson 0.22511718757779656\n",
      "Steps: 3500 RMSE: 0.8757474422454834 Pearson 0.22941252986698263\n",
      "Steps: 3750 RMSE: 0.8731020092964172 Pearson 0.233803811706368\n",
      "Steps: 4000 RMSE: 0.8726839423179626 Pearson 0.23770134176678867\n",
      "Steps: 4250 RMSE: 0.8707636594772339 Pearson 0.24282195285739588\n",
      "Steps: 4500 RMSE: 0.8702203631401062 Pearson 0.24631179985251456\n",
      "Steps: 4750 RMSE: 0.8691810965538025 Pearson 0.25075838884557866\n"
     ]
    },
    {
     "data": {
      "image/png": "[encoded data removed]",
      "text/plain": [
       "<Figure size 432x288 with 1 Axes>"
      ]
     },
     "metadata": {
      "needs_background": "light"
     },
     "output_type": "display_data"
    }
   ],
   "source": [
    "from scipy.stats.stats import pearsonr\n",
    "\n",
    "input_dim = word_dim\n",
    "hidden_dim=200\n",
    "lr=0.01\n",
    "batch_size = 64\n",
    "steps = 5000\n",
    "losses = []\n",
    "\n",
    "X_en = zh_train_src_pad\n",
    "X_zh = zh_train_mt_pad\n",
    "h = gru.init_hidden(batch_size), gru.init_hidden(batch_size)\n",
    "\n",
    "# fc_dim=(X_en.shape[1]+X_zh.shape[1])*hidden_dim\n",
    "gru = GRUNet(input_dim, hidden_dim, fc_dim=(1)*hidden_dim, output_dim=1, n_layers=1)\n",
    "# define the network\n",
    "optimizer = torch.optim.SGD(gru.parameters(), lr)\n",
    "loss_func = torch.nn.MSELoss()  \n",
    "\n",
    "\n",
    "for t in range(steps):\n",
    "    curr_bat = np.random.choice(len(X_en), batch_size, replace=False)\n",
    "    x = X_en[curr_bat], X_zh[curr_bat]\n",
    "    y = torch.Tensor(y_train_zh[curr_bat]).view(batch_size,-1).cuda()\n",
    "    optimizer.zero_grad()\n",
    "    prediction, h = gru(x, h)    \n",
    "    loss = loss_func(prediction, y)\n",
    "    losses += [loss.item()]\n",
    "    optimizer.zero_grad()   \n",
    "    loss.backward()        \n",
    "    optimizer.step()    \n",
    "    if t % (steps // 20) == 0:\n",
    "        with torch.no_grad():\n",
    "            predictions = torch.zeros(0, 64)\n",
    "            for i in range(0, len(zh_val_src_pad)-batch_size, batch_size):\n",
    "                pred, _ = gru((zh_val_src_pad[i: i+batch_size], zh_val_mt_pad[i:i+batch_size]), h)\n",
    "                pred = pred.permute(1,0)\n",
    "                predictions = torch.cat((predictions, pred.cpu()), 0)\n",
    "            predictions = predictions.flatten()\n",
    "            y_val_trunc = torch.Tensor(y_val_zh[:len(predictions)-len(predictions)%batch_size])\n",
    "            pearson = pearsonr(y_val_trunc, predictions)\n",
    "            print(f'Steps: {t} RMSE: {rmse(y_val_trunc, predictions)} Pearson {pearson[0]}')\n",
    "plot_loss(losses)"
   ]
  },
  {
   "cell_type": "code",
   "execution_count": 462,
   "metadata": {},
   "outputs": [
    {
     "data": {
      "image/png": "[encoded data removed]",
      "text/plain": [
       "<Figure size 432x288 with 1 Axes>"
      ]
     },
     "metadata": {
      "needs_background": "light"
     },
     "output_type": "display_data"
    }
   ],
   "source": [
    "plot_loss(losses)"
   ]
  }
 ],
 "metadata": {
  "kernelspec": {
   "display_name": "Python 3",
   "language": "python",
   "name": "python3"
  },
  "language_info": {
   "codemirror_mode": {
    "name": "ipython",
    "version": 3
   },
   "file_extension": ".py",
   "mimetype": "text/x-python",
   "name": "python",
   "nbconvert_exporter": "python",
   "pygments_lexer": "ipython3",
   "version": "3.7.5rc1"
  },
  "toc": {
   "base_numbering": 1,
   "nav_menu": {},
   "number_sections": false,
   "sideBar": true,
   "skip_h1_title": false,
   "title_cell": "Table of Contents",
   "title_sidebar": "Contents",
   "toc_cell": true,
   "toc_position": {},
   "toc_section_display": true,
   "toc_window_display": true
  }
 },
 "nbformat": 4,
 "nbformat_minor": 2
}
