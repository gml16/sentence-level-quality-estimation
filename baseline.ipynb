{
 "cells": [
  {
   "cell_type": "markdown",
   "metadata": {
    "toc": true
   },
   "source": [
    "<h1>Table of Contents<span class=\"tocSkip\"></span></h1>\n",
    "<div class=\"toc\"><ul class=\"toc-item\"><li><span><a href=\"#Coursework:-Baseline-Model\" data-toc-modified-id=\"Coursework:-Baseline-Model-1\">Coursework: Baseline Model</a></span><ul class=\"toc-item\"><li><span><a href=\"#A.-English-German\" data-toc-modified-id=\"A.-English-German-1.1\">A. English-German</a></span><ul class=\"toc-item\"><li><span><a href=\"#Importing-Data\" data-toc-modified-id=\"Importing-Data-1.1.1\">Importing Data</a></span></li><li><span><a href=\"#Computing-Sentence-Embeddings\" data-toc-modified-id=\"Computing-Sentence-Embeddings-1.1.2\">Computing Sentence Embeddings</a></span><ul class=\"toc-item\"><li><span><a href=\"#Pre-processing-with-Spacy\" data-toc-modified-id=\"Pre-processing-with-Spacy-1.1.2.1\">Pre-processing with Spacy</a></span></li><li><span><a href=\"#Getting-Training-and-Validation-Sets\" data-toc-modified-id=\"Getting-Training-and-Validation-Sets-1.1.2.2\">Getting Training and Validation Sets</a></span></li></ul></li><li><span><a href=\"#Training-the-Regressor\" data-toc-modified-id=\"Training-the-Regressor-1.1.3\">Training the Regressor</a></span><ul class=\"toc-item\"><li><span><a href=\"#SVM\" data-toc-modified-id=\"SVM-1.1.3.1\">SVM</a></span></li><li><span><a href=\"#Random-Tree-Forest\" data-toc-modified-id=\"Random-Tree-Forest-1.1.3.2\">Random Tree Forest</a></span></li><li><span><a href=\"#Neural-Net\" data-toc-modified-id=\"Neural-Net-1.1.3.3\">Neural Net</a></span></li></ul></li><li><span><a href=\"#Writing-Results\" data-toc-modified-id=\"Writing-Results-1.1.4\">Writing Results</a></span></li><li><span><a href=\"#Results\" data-toc-modified-id=\"Results-1.1.5\">Results</a></span></li><li><span><a href=\"#Importing-Data\" data-toc-modified-id=\"Importing-Data-1.1.6\">Importing Data</a></span></li><li><span><a href=\"#Computing-Sentence-Embeddings\" data-toc-modified-id=\"Computing-Sentence-Embeddings-1.1.7\">Computing Sentence Embeddings</a></span><ul class=\"toc-item\"><li><span><a href=\"#Pre-processing-English-with-GloVe\" data-toc-modified-id=\"Pre-processing-English-with-GloVe-1.1.7.1\">Pre-processing English with GloVe</a></span></li><li><span><a href=\"#Loading-Chinese-Word2Vec-Embeddings\" data-toc-modified-id=\"Loading-Chinese-Word2Vec-Embeddings-1.1.7.2\">Loading Chinese Word2Vec Embeddings</a></span></li><li><span><a href=\"#Pre-processing-Chinese\" data-toc-modified-id=\"Pre-processing-Chinese-1.1.7.3\">Pre-processing Chinese</a></span></li><li><span><a href=\"#&quot;Working&quot;-Neural-Net\" data-toc-modified-id=\"&quot;Working&quot;-Neural-Net-1.1.7.4\">\"Working\" Neural Net</a></span></li></ul></li><li><span><a href=\"#Training-the-Regressor\" data-toc-modified-id=\"Training-the-Regressor-1.1.8\">Training the Regressor</a></span><ul class=\"toc-item\"><li><span><a href=\"#SVM\" data-toc-modified-id=\"SVM-1.1.8.1\">SVM</a></span></li><li><span><a href=\"#Random-Tree-Forest\" data-toc-modified-id=\"Random-Tree-Forest-1.1.8.2\">Random Tree Forest</a></span></li></ul></li><li><span><a href=\"#Writing-Results\" data-toc-modified-id=\"Writing-Results-1.1.9\">Writing Results</a></span></li><li><span><a href=\"#Results\" data-toc-modified-id=\"Results-1.1.10\">Results</a></span></li></ul></li></ul></li></ul></div>"
   ]
  },
  {
   "cell_type": "markdown",
   "metadata": {
    "colab_type": "text",
    "id": "omEQHVdOS61G"
   },
   "source": [
    "# Coursework: Baseline Model\n",
    "\n",
    "This notebook takes you step by step to the implementation of a simple baseline model to get you started on the coursework. You have a section for the English-German task and another for English-Chinese. They are made to be standalone so feel free to check only one of the sections. However, as the tasks require slighlty different approaches, going through both sections could help you to get inspired for your chosen task, especially each task processes english in a slighlty different way.\n",
    "\n",
    "Enjoy!"
   ]
  },
  {
   "cell_type": "markdown",
   "metadata": {
    "colab_type": "text",
    "id": "lweXud1Wpemd"
   },
   "source": [
    "## A. English-German"
   ]
  },
  {
   "cell_type": "markdown",
   "metadata": {
    "colab_type": "text",
    "id": "Yu6s3YOf_C93"
   },
   "source": [
    "### Importing Data"
   ]
  },
  {
   "cell_type": "code",
   "execution_count": 0,
   "metadata": {
    "colab": {},
    "colab_type": "code",
    "id": "scs7ICZrPFcs"
   },
   "outputs": [],
   "source": [
    "# Download and unzip the data\n",
    "from os.path import exists\n",
    "if not exists('ende_data.zip'):\n",
    "    !wget -O ende_data.zip https://competitions.codalab.org/my/datasets/download/c748d2c0-d6be-4e36-9f12-ca0e88819c4d\n",
    "    !unzip ende_data.zip"
   ]
  },
  {
   "cell_type": "code",
   "execution_count": 1,
   "metadata": {
    "colab": {},
    "colab_type": "code",
    "id": "jPy_iwHnOSAZ"
   },
   "outputs": [
    {
     "name": "stdout",
     "output_type": "stream",
     "text": [
      "---EN-DE---\n",
      "\n",
      "Source:  José Ortega y Gasset visited Husserl at Freiburg in 1934.\n",
      "\n",
      "Translation:  1934 besuchte José Ortega y Gasset Husserl in Freiburg.\n",
      "\n",
      "Score:  1.1016968715664406\n",
      "\n"
     ]
    }
   ],
   "source": [
    "# Check the files\n",
    "import io\n",
    "\n",
    "#English-German\n",
    "print(\"---EN-DE---\")\n",
    "print()\n",
    "\n",
    "with open(\"./data/en-de/train.ende.src\", \"r\", encoding=\"utf8\") as ende_src:\n",
    "    print(\"Source: \",ende_src.readline())\n",
    "with open(\"./data/en-de/train.ende.mt\", \"r\", encoding=\"utf8\") as ende_mt:\n",
    "    print(\"Translation: \",ende_mt.readline())\n",
    "with open(\"./data/en-de/train.ende.scores\", \"r\", encoding=\"utf8\") as ende_scores:\n",
    "    print(\"Score: \",ende_scores.readline())\n"
   ]
  },
  {
   "cell_type": "markdown",
   "metadata": {
    "colab_type": "text",
    "id": "wiFHVnfH_Jpv"
   },
   "source": [
    "### Computing Sentence Embeddings "
   ]
  },
  {
   "cell_type": "markdown",
   "metadata": {
    "colab_type": "text",
    "id": "g05fv5GiSyQ4"
   },
   "source": [
    "For this baseline model, we will simply use pre-trained GloVe embeddings via the Spacy module and compute the vector for each word and take the global mean for each sentence. We will do the same for both source and translation sentences. For chinese tokenization and embeddings we will have to find other tools.\n",
    "\n",
    "This is a very simplistic approach so feel free to be more creative and play around with how the sentence embeddings are computed for example ;)."
   ]
  },
  {
   "cell_type": "markdown",
   "metadata": {
    "colab_type": "text",
    "id": "jcjZpNlra8TD"
   },
   "source": [
    "GloVe embeddings do not support the Chinese language so in the section of the English-Chinese task we will have to download pretrained Chinese embeddings from word2vec repositories."
   ]
  },
  {
   "cell_type": "code",
   "execution_count": null,
   "metadata": {
    "colab": {},
    "colab_type": "code",
    "id": "96bRtBbuZLJe"
   },
   "outputs": [],
   "source": [
    "#Downloading spacy models for english and german\n",
    "\n",
    "!python -m spacy download en_core_web_md\n",
    "print(\"en_core_web_md downloaded\")\n",
    "!python -m spacy link en_core_web_md en300\n",
    "print(\"en_core_web_md linked\")\n",
    "\n",
    "!python -m spacy download de_core_news_md\n",
    "print(\"de_core_news_md downloaded\")\n",
    "!python -m spacy link de_core_news_md de300\n",
    "print(\"de_core_news_md linked\")"
   ]
  },
  {
   "cell_type": "markdown",
   "metadata": {
    "colab_type": "text",
    "id": "Om6kQX5bX2mB"
   },
   "source": [
    "We can now write our functions that will return the average embeddings for a sentence."
   ]
  },
  {
   "cell_type": "markdown",
   "metadata": {
    "colab_type": "text",
    "id": "nhT2I6WYavY4"
   },
   "source": [
    "#### Pre-processing with Spacy"
   ]
  },
  {
   "cell_type": "code",
   "execution_count": 2,
   "metadata": {
    "colab": {},
    "colab_type": "code",
    "id": "19gsNCgnW8ZT"
   },
   "outputs": [
    {
     "name": "stderr",
     "output_type": "stream",
     "text": [
      "[nltk_data] Downloading package stopwords to\n",
      "[nltk_data]     C:\\Users\\gmler\\AppData\\Roaming\\nltk_data...\n",
      "[nltk_data]   Package stopwords is already up-to-date!\n"
     ]
    }
   ],
   "source": [
    "import numpy as np\n",
    "import spacy\n",
    "from tqdm import tqdm\n",
    "\n",
    "from nltk import download\n",
    "from nltk.corpus import stopwords\n",
    "\n",
    "#downloading stopwords from the nltk package\n",
    "download('stopwords') #stopwords dictionary, run once\n",
    "\n",
    "stop_words_en = set(stopwords.words('english'))\n",
    "stop_words_de = set(stopwords.words('german'))\n",
    "\n",
    "def get_sentence_emb(line,nlp,lang):\n",
    "    text = line.lower()\n",
    "    l = [token.lemma_ for token in nlp.tokenizer(text)]\n",
    "    if lang == 'en':\n",
    "        l = ' '.join([word for word in l if word not in stop_words_en])\n",
    "    elif lang == 'de':\n",
    "        l = ' '.join([word for word in l if word not in stop_words_de])\n",
    "    sen = nlp(l)\n",
    "    return sen.vector\n",
    "\n",
    "def get_embeddings(f,nlp,lang, mean=True):\n",
    "    file = open(f, encoding=\"utf8\") \n",
    "    lines = file.readlines() \n",
    "    sentences_vectors = []\n",
    "    for l in tqdm(lines):\n",
    "        vec = get_sentence_emb(l,nlp,lang)\n",
    "        if vec is not None:\n",
    "            if mean:\n",
    "                vec = np.mean(vec)\n",
    "            sentences_vectors.append(vec)\n",
    "        else:\n",
    "            print(\"didn't work :\", l)\n",
    "            sentences_vectors.append(0)\n",
    "\n",
    "    return sentences_vectors\n"
   ]
  },
  {
   "cell_type": "markdown",
   "metadata": {
    "colab_type": "text",
    "id": "NUKMgbo2sreI"
   },
   "source": [
    "#### Getting Training and Validation Sets"
   ]
  },
  {
   "cell_type": "markdown",
   "metadata": {
    "colab_type": "text",
    "id": "ZXqZamIKs30T"
   },
   "source": [
    "We will now run the code fo the English-German translations and getting our training and validation sets ready for the regression task.\n"
   ]
  },
  {
   "cell_type": "code",
   "execution_count": 3,
   "metadata": {
    "colab": {},
    "colab_type": "code",
    "id": "GyJr7cIkQ3E8"
   },
   "outputs": [],
   "source": [
    "import spacy\n",
    "\n",
    "nlp_de = spacy.load('de300')\n",
    "nlp_en = spacy.load('en300')"
   ]
  },
  {
   "cell_type": "code",
   "execution_count": 4,
   "metadata": {
    "colab": {},
    "colab_type": "code",
    "id": "LwoUIDj0otbf"
   },
   "outputs": [
    {
     "name": "stderr",
     "output_type": "stream",
     "text": [
      "100%|█████████████████████████████████████████████████████████████████████████████| 7000/7000 [00:45<00:00, 153.08it/s]\n",
      "100%|█████████████████████████████████████████████████████████████████████████████| 7000/7000 [00:52<00:00, 134.31it/s]\n",
      "100%|█████████████████████████████████████████████████████████████████████████████| 1000/1000 [00:06<00:00, 149.26it/s]\n",
      "100%|█████████████████████████████████████████████████████████████████████████████| 1000/1000 [00:06<00:00, 150.62it/s]\n"
     ]
    }
   ],
   "source": [
    "import torch\n",
    "\n",
    "#EN-DE files\n",
    "de_train_src = get_embeddings(\"./data/en-de/train.ende.src\",nlp_en,'en', mean=True)\n",
    "de_train_mt = get_embeddings(\"./data/en-de/train.ende.mt\",nlp_de,'de', mean=True)\n",
    "\n",
    "f_train_scores = open(\"./data/en-de/train.ende.scores\",'r')\n",
    "de_train_scores = f_train_scores.readlines()\n",
    "\n",
    "de_val_src = get_embeddings(\"./data/en-de/dev.ende.src\",nlp_en,'en', mean=True)\n",
    "de_val_mt = get_embeddings(\"./data/en-de/dev.ende.mt\",nlp_de,'de', mean=True)\n",
    "\n",
    "f_val_scores = open(\"./data/en-de/dev.ende.scores\",'r')\n",
    "de_val_scores = f_val_scores.readlines()"
   ]
  },
  {
   "cell_type": "code",
   "execution_count": 5,
   "metadata": {
    "colab": {},
    "colab_type": "code",
    "id": "U_K1CHl5VxiE"
   },
   "outputs": [
    {
     "name": "stdout",
     "output_type": "stream",
     "text": [
      "Training mt: 7000 Training src: 7000\n",
      "\n",
      "Validation mt: 1000 Validation src: 1000\n"
     ]
    }
   ],
   "source": [
    "#EN-DE\n",
    "print(f\"Training mt: {len(de_train_mt)} Training src: {len(de_train_src)}\")\n",
    "print()\n",
    "print(f\"Validation mt: {len(de_val_mt)} Validation src: {len(de_val_src)}\")"
   ]
  },
  {
   "cell_type": "code",
   "execution_count": 7,
   "metadata": {
    "colab": {},
    "colab_type": "code",
    "id": "Px7ikaGoy9r0"
   },
   "outputs": [],
   "source": [
    "#Put the features into a list\n",
    "X_train = [np.array(de_train_src),np.array(de_train_mt)]\n",
    "X_train_de = np.array(X_train).transpose()\n",
    "\n",
    "X_val = [np.array(de_val_src),np.array(de_val_mt)]\n",
    "X_val_de = np.array(X_val).transpose()\n",
    "\n",
    "#Scores\n",
    "train_scores = np.array(de_train_scores).astype(float)\n",
    "y_train_de = train_scores\n",
    "\n",
    "val_scores = np.array(de_val_scores).astype(float)\n",
    "y_val_de = val_scores\n"
   ]
  },
  {
   "cell_type": "code",
   "execution_count": 0,
   "metadata": {
    "colab": {},
    "colab_type": "code",
    "id": "RFp6yyBl4Kgf"
   },
   "outputs": [],
   "source": [
    "\n",
    "# RUN IF WANT TO HAVE AVERAGE VECTOR(AND NOT GLOBAL MEAN), THIS GAVE WORSE PERFORMANCE THAN GLOBAL MEAN\n",
    "'''\n",
    "\n",
    "X_train= [np.array(train_src),np.array(train_mt)]\n",
    "X_train = np.array(X_train)\n",
    "\n",
    "\n",
    "X_test = [np.array(test_src),np.array(test_mt)]\n",
    "X_test = np.array(X_test)\n",
    "\n",
    "\n",
    "#Reshaping if using shape >3\n",
    "nsamples, nx, ny = X_train.shape\n",
    "X_train = X_train.reshape((nx,ny*nsamples))\n",
    "\n",
    "nsamples, nx, ny = X_test.shape\n",
    "X_test = X_test.reshape((nx,ny*nsamples))\n",
    "\n",
    "print(X_train.shape)\n",
    "print(X_test.shape)\n",
    "\n",
    "\n",
    "\n",
    "#Scores\n",
    "train_scores = np.array(train_scores).astype(float)\n",
    "y_train =train_scores\n",
    "\n",
    "test_scores = np.array(test_scores).astype(float)\n",
    "y_test =test_scores\n",
    "'''\n"
   ]
  },
  {
   "cell_type": "markdown",
   "metadata": {
    "colab_type": "text",
    "id": "XSIE7d8HCTpi"
   },
   "source": [
    "### Training the Regressor\n"
   ]
  },
  {
   "cell_type": "markdown",
   "metadata": {
    "colab_type": "text",
    "id": "3eoY14lNCTe3"
   },
   "source": [
    "At this point,  will try SVM and Random Tree Forests and choose the model with the highest Pearson correlation.\n",
    "\n",
    "First we will define our RMSE function."
   ]
  },
  {
   "cell_type": "code",
   "execution_count": 8,
   "metadata": {
    "colab": {},
    "colab_type": "code",
    "id": "dRcegRvW2F2q"
   },
   "outputs": [],
   "source": [
    "import numpy as np\n",
    "\n",
    "def rmse(predictions, targets):\n",
    "    res = np.sqrt(((predictions - targets) ** 2).mean())\n",
    "    return res"
   ]
  },
  {
   "cell_type": "markdown",
   "metadata": {
    "colab_type": "text",
    "id": "IerDa2251swL"
   },
   "source": [
    "#### SVM"
   ]
  },
  {
   "cell_type": "markdown",
   "metadata": {
    "colab_type": "text",
    "id": "exHbrWtq14jm"
   },
   "source": [
    "SVM have many parameters such as the kernel and the regularizating constant C. Here we will use C = 1 and compare kernels. "
   ]
  },
  {
   "cell_type": "code",
   "execution_count": 19,
   "metadata": {
    "colab": {},
    "colab_type": "code",
    "id": "QiHCkGUgsJ8r"
   },
   "outputs": [
    {
     "name": "stdout",
     "output_type": "stream",
     "text": [
      "linear\n",
      "RMSE: 0.8813480780424763 Pearson 0.05429497493902449\n",
      "\n",
      "poly\n",
      "RMSE: 0.8812191248506788 Pearson 0.06181058128849028\n",
      "\n",
      "rbf\n",
      "RMSE: 0.8816291568820614 Pearson 0.024117081317928758\n",
      "\n",
      "sigmoid\n",
      "RMSE: 349.6488393895403 Pearson -0.036611353212000305\n",
      "\n"
     ]
    }
   ],
   "source": [
    "from sklearn.svm import SVR\n",
    "from scipy.stats.stats import pearsonr\n",
    "\n",
    "for k in ['linear','poly','rbf','sigmoid']:\n",
    "    clf_t = SVR(kernel=k, gamma = 'scale')\n",
    "    clf_t.fit(X_train_de, y_train_de)\n",
    "    print(k)\n",
    "    predictions = clf_t.predict(X_val_de)\n",
    "    pearson = pearsonr(y_val_de, predictions)\n",
    "    print(f'RMSE: {rmse(predictions,y_val_de)} Pearson {pearson[0]}')\n",
    "    print()"
   ]
  },
  {
   "cell_type": "markdown",
   "metadata": {
    "colab_type": "text",
    "id": "P1Fr1RLm3-Kc"
   },
   "source": [
    "Here the best kernel seems to be the polynomial one as it gives us the highest pearson correlation at 0.062."
   ]
  },
  {
   "cell_type": "markdown",
   "metadata": {
    "colab_type": "text",
    "id": "qg9YSBUG1zaL"
   },
   "source": [
    "#### Random Tree Forest"
   ]
  },
  {
   "cell_type": "markdown",
   "metadata": {
    "colab_type": "text",
    "id": "Au88fVS33K4W"
   },
   "source": [
    "Another powerful regressor is the Random Tree Forest. Here we have to choose the number of trees we want to compute and we will pick n_estimators = 1000. The higher the number the longer it will compute. To fine tune that number you could compute the error per number of trees and select the number for which there is no more significant improvement( the \"elbow\" of the graph)."
   ]
  },
  {
   "cell_type": "code",
   "execution_count": 13,
   "metadata": {
    "colab": {},
    "colab_type": "code",
    "id": "VOld4zbmsOGL"
   },
   "outputs": [
    {
     "name": "stdout",
     "output_type": "stream",
     "text": [
      "RMSE: 0.9385994376085562\n",
      "Pearson -0.031135023916911277\n"
     ]
    }
   ],
   "source": [
    "# Import the model we are using\n",
    "\n",
    "from sklearn.ensemble import RandomForestRegressor\n",
    "\n",
    "rf = RandomForestRegressor(n_estimators = 1000, random_state = 666)\n",
    "\n",
    "rf.fit(X_train_de, y_train_de);\n",
    "\n",
    "\n",
    "predictions = rf.predict(X_val_de)\n",
    "\n",
    "pearson = pearsonr(y_val_de, predictions)\n",
    "print('RMSE:', rmse(predictions,y_val_de))\n",
    "print(f\"Pearson {pearson[0]}\")\n"
   ]
  },
  {
   "cell_type": "markdown",
   "metadata": {
    "colab_type": "text",
    "id": "0L73jhAc6ZoM"
   },
   "source": [
    "In this case, it seems like the SVM with a linear kernel performed the best on our validation set so we will save that model for the test set predictions."
   ]
  },
  {
   "cell_type": "markdown",
   "metadata": {},
   "source": [
    "#### Neural Net"
   ]
  },
  {
   "cell_type": "code",
   "execution_count": 9,
   "metadata": {},
   "outputs": [],
   "source": [
    "import torch\n",
    "import torch.nn as nn\n",
    "import torch.nn.functional as F\n",
    "from scipy.stats.stats import pearsonr\n",
    "import matplotlib.pyplot as plt"
   ]
  },
  {
   "cell_type": "code",
   "execution_count": 19,
   "metadata": {},
   "outputs": [
    {
     "name": "stderr",
     "output_type": "stream",
     "text": [
      "100%|█████████████████████████████████████████████████████████████████████████████| 7000/7000 [00:53<00:00, 130.27it/s]\n",
      "100%|█████████████████████████████████████████████████████████████████████████████| 7000/7000 [00:55<00:00, 125.01it/s]\n",
      "100%|█████████████████████████████████████████████████████████████████████████████| 1000/1000 [00:07<00:00, 137.96it/s]\n",
      "100%|█████████████████████████████████████████████████████████████████████████████| 1000/1000 [00:07<00:00, 137.53it/s]\n"
     ]
    }
   ],
   "source": [
    "import torch\n",
    "\n",
    "#EN-DE files\n",
    "de_train_src = get_embeddings(\"./data/en-de/train.ende.src\",nlp_en,'en', mean=False)\n",
    "de_train_mt = get_embeddings(\"./data/en-de/train.ende.mt\",nlp_de,'de', mean=False)\n",
    "\n",
    "f_train_scores = open(\"./data/en-de/train.ende.scores\",'r')\n",
    "de_train_scores = f_train_scores.readlines()\n",
    "\n",
    "de_val_src = get_embeddings(\"./data/en-de/dev.ende.src\",nlp_en,'en', mean=False)\n",
    "de_val_mt = get_embeddings(\"./data/en-de/dev.ende.mt\",nlp_de,'de', mean=False)\n",
    "f_val_scores = open(\"./data/en-de/dev.ende.scores\",'r')\n",
    "de_val_scores = f_val_scores.readlines()"
   ]
  },
  {
   "cell_type": "code",
   "execution_count": 20,
   "metadata": {},
   "outputs": [],
   "source": [
    "#Put the features into a list\n",
    "X_train = np.concatenate((de_train_src, de_train_mt),axis=1)\n",
    "X_train_de = np.array(X_train).transpose()\n",
    "\n",
    "X_val = np.concatenate((de_val_src,de_val_mt),axis=1)\n",
    "X_val_de = np.array(X_val).transpose()\n",
    "\n",
    "#Scores\n",
    "train_scores = np.array(de_train_scores).astype(float)\n",
    "y_train_de = train_scores\n",
    "\n",
    "val_scores = np.array(de_val_scores).astype(float)\n",
    "y_val_de = val_scores"
   ]
  },
  {
   "cell_type": "code",
   "execution_count": 21,
   "metadata": {},
   "outputs": [
    {
     "data": {
      "text/plain": [
       "(7000, 600)"
      ]
     },
     "execution_count": 21,
     "metadata": {},
     "output_type": "execute_result"
    }
   ],
   "source": [
    "X_train.shape # should be (7000, 600)"
   ]
  },
  {
   "cell_type": "code",
   "execution_count": 24,
   "metadata": {},
   "outputs": [],
   "source": [
    "class Net(torch.nn.Module):\n",
    "    def __init__(self, n_feature, n_output):\n",
    "        super(Net, self).__init__()\n",
    "        self.hidden = torch.nn.Linear(n_feature, 256)  \n",
    "        self.hidden2 = torch.nn.Linear(256, 64)\n",
    "        self.hidden3 = torch.nn.Linear(64, 16)\n",
    "        self.predict = torch.nn.Linear(16, n_output) \n",
    "\n",
    "    def forward(self, x):\n",
    "        x = F.relu(self.hidden(x))  \n",
    "        x = F.relu(self.hidden2(x))  \n",
    "        x = F.relu(self.hidden3(x))  \n",
    "        x = self.predict(x)\n",
    "        return x"
   ]
  },
  {
   "cell_type": "code",
   "execution_count": null,
   "metadata": {},
   "outputs": [
    {
     "name": "stdout",
     "output_type": "stream",
     "text": [
      "Steps: 0 RMSE: 0.8654182107834519 Pearson 0.08525518929193555\n",
      "Steps: 500 RMSE: 0.8663918776827932 Pearson -0.02963617713214612\n",
      "Steps: 1000 RMSE: 0.885829134742337 Pearson -0.011111095795974756\n",
      "Steps: 1500 RMSE: 0.864803375227498 Pearson -0.014293262826311166\n"
     ]
    }
   ],
   "source": [
    "net = Net(n_feature=600, n_output=1)     # define the network\n",
    "optimizer = torch.optim.SGD(net.parameters(), lr=0.2)\n",
    "loss_func = torch.nn.MSELoss()  \n",
    "batch_size = 4\n",
    "steps = 5000\n",
    "losses = []\n",
    "\n",
    "for t in range(steps):\n",
    "    curr_bat = np.random.choice(len(X_train), batch_size, replace=False)\n",
    "    x = torch.Tensor(X_train[curr_bat])\n",
    "    y = torch.Tensor(y_train_de[curr_bat]).view(batch_size,-1)\n",
    "    optimizer.zero_grad()\n",
    "    prediction = net(x)    \n",
    "    #print(\"prediction.shape\", prediction, \"y.shape\", y)\n",
    "    loss = loss_func(prediction, y)\n",
    "    losses += [loss.item()]\n",
    "    optimizer.zero_grad()   \n",
    "    loss.backward()        \n",
    "    optimizer.step()    \n",
    "    if t % (steps // 10) == 0:\n",
    "        with torch.no_grad():\n",
    "            predictions = net(torch.Tensor(X_val)).flatten().data.numpy()\n",
    "            pearson = pearsonr(y_val_de, predictions)\n",
    "            print(f'Steps: {t} RMSE: {rmse(predictions,y_val_de)} Pearson {pearson[0]}')\n",
    "plt.plot(list(range(len(losses))), losses)\n",
    "plt.xlabel(\"Steps\")\n",
    "plt.ylabel(\"Loss\")\n",
    "plt.title(\"Training\")\n",
    "plt.yscale('log')\n",
    "plt.show()\n",
    "\n",
    "        "
   ]
  },
  {
   "cell_type": "markdown",
   "metadata": {
    "colab_type": "text",
    "id": "G9puD_0zkC2c"
   },
   "source": [
    "### Writing Results"
   ]
  },
  {
   "cell_type": "markdown",
   "metadata": {
    "colab_type": "text",
    "id": "oQvvIhPDkUnR"
   },
   "source": [
    "Here is our function to write the scores into a txt file. We can follow the <Method> <ID> <SCORE> template but having only the scores will work too."
   ]
  },
  {
   "cell_type": "code",
   "execution_count": 14,
   "metadata": {
    "colab": {},
    "colab_type": "code",
    "id": "LN3NtkF4kPxw"
   },
   "outputs": [],
   "source": [
    "import os\n",
    "\n",
    "def writeScores(method_name,scores):\n",
    "    fn = \"predictions.txt\"\n",
    "    print(\"\")\n",
    "    with open(fn, 'w') as output_file:\n",
    "        for idx,x in enumerate(scores):\n",
    "            #out =  metrics[idx]+\":\"+str(\"{0:.2f}\".format(x))+\"\\n\"\n",
    "            #print(out)\n",
    "            output_file.write(f\"{x}\\n\")"
   ]
  },
  {
   "cell_type": "code",
   "execution_count": 20,
   "metadata": {
    "colab": {},
    "colab_type": "code",
    "id": "FVss_RLBkFei"
   },
   "outputs": [],
   "source": [
    "#EN-DE\n",
    "\n",
    "de_test_src = get_embeddings(\"./data/en-de/test.ende.src\",nlp_en,'en')\n",
    "de_test_mt = get_embeddings(\"./data/en-de/test.ende.mt\",nlp_de,'de')\n",
    "\n",
    "X= [np.array(de_test_src),np.array(de_test_mt)]\n",
    "X_test = np.array(X).transpose()\n",
    "\n",
    "#Predict\n",
    "clf_de = SVR(kernel='rbf', gamma='scale')\n",
    "clf_de.fit(X_train_de, y_train_de)\n",
    "\n",
    "predictions_de = clf_de.predict(X_val_de)"
   ]
  },
  {
   "cell_type": "code",
   "execution_count": 22,
   "metadata": {
    "colab": {},
    "colab_type": "code",
    "id": "XWnNUR0Gku_9"
   },
   "outputs": [
    {
     "name": "stdout",
     "output_type": "stream",
     "text": [
      "\n"
     ]
    }
   ],
   "source": [
    "from zipfile import ZipFile\n",
    "\n",
    "\n",
    "writeScores(\"SVR\",predictions_de)\n",
    "\n",
    "with ZipFile(\"en-de_svr.zip\",\"w\") as newzip:\n",
    "\tnewzip.write(\"predictions.txt\")\n",
    " \n",
    "#files.download('en-de_svr.zip') "
   ]
  },
  {
   "cell_type": "markdown",
   "metadata": {
    "colab_type": "text",
    "id": "wyaM_P0bynB-"
   },
   "source": [
    "### Results\n",
    "\n",
    "Once submitted to codalab, the pearson correlation is 0.0052."
   ]
  },
  {
   "cell_type": "markdown",
   "metadata": {
    "colab_type": "text",
    "id": "3obhUYW5ptUS"
   },
   "source": [
    "##B. English-Chinese\n"
   ]
  },
  {
   "cell_type": "markdown",
   "metadata": {
    "colab_type": "text",
    "id": "OE9wypehaLrZ"
   },
   "source": [
    "### Importing Data"
   ]
  },
  {
   "cell_type": "code",
   "execution_count": 0,
   "metadata": {
    "colab": {},
    "colab_type": "code",
    "id": "_5y34iNipyr3"
   },
   "outputs": [],
   "source": [
    "from os.path import exists\n",
    "\n",
    "if not exists('enzh_data.zip'):\n",
    "    !wget -O enzh_data.zip https://competitions.codalab.org/my/datasets/download/03e23bd7-8084-4542-997b-6a1ca6dd8a5f\n",
    "    !unzip enzh_data.zip"
   ]
  },
  {
   "cell_type": "code",
   "execution_count": 0,
   "metadata": {
    "colab": {},
    "colab_type": "code",
    "id": "RlXMiqJXq8fy"
   },
   "outputs": [],
   "source": [
    "#English-Chinese\n",
    "#Checking Data\n",
    "print(\"---EN-ZH---\")\n",
    "print()\n",
    "\n",
    "with open(\"./train.enzh.src\", \"r\") as enzh_src:\n",
    "  print(\"Source: \",enzh_src.readline())\n",
    "with open(\"./train.enzh.mt\", \"r\") as enzh_mt:\n",
    "  print(\"Translation: \",enzh_mt.readline())\n",
    "with open(\"./train.enzh.scores\", \"r\") as enzh_scores:\n",
    "  print(\"Score: \",enzh_scores.readline())"
   ]
  },
  {
   "cell_type": "markdown",
   "metadata": {
    "colab_type": "text",
    "id": "GlOd_5a6aTVP"
   },
   "source": [
    "### Computing Sentence Embeddings\n"
   ]
  },
  {
   "cell_type": "markdown",
   "metadata": {
    "colab_type": "text",
    "id": "ZgqjMa_wu0xz"
   },
   "source": [
    "For this task, we will compute the embeddings for words in a sentence in one language and compute the global mean for that sentence, and do the same for the other language. However, we will have to find and download pre-traind embeddings for Chinese as Spacy nor GloVe handle it. The embeddings we will be using for Chinese are of dimension 100, therefore we need to adapt the embeddings for english from the dim 300 to 100. Glove does have English embeddings of dim 100 but Spacy does not have that model. So, we will tokenize the sentences using Spacy tokenizer and use GloVe directly."
   ]
  },
  {
   "cell_type": "markdown",
   "metadata": {
    "colab_type": "text",
    "id": "QsKYMxCSolrx"
   },
   "source": [
    "#### Pre-processing English with GloVe"
   ]
  },
  {
   "cell_type": "markdown",
   "metadata": {
    "colab_type": "text",
    "id": "xd24p41jkv7N"
   },
   "source": [
    "With GloVe's function *stoi()* (string to int) we can get the index corresponding to a given word and with the function *itos()* we get the word given its index. To obtain the vector of a word we first get the integer associated with it and then index it into the word embedding tensor with that index. Note that glove takes words in a lower case."
   ]
  },
  {
   "cell_type": "code",
   "execution_count": 0,
   "metadata": {
    "colab": {},
    "colab_type": "code",
    "id": "8lc4rdJnrE_Q"
   },
   "outputs": [],
   "source": [
    "# DON'T RUN IF YOU ALREADY RAN IT IN THE ENGLISH-GERMAN SECTION\n",
    "# Downloading spacy models for english\n",
    "\n",
    "!spacy download en_core_web_md\n",
    "!spacy link en_core_web_md en300"
   ]
  },
  {
   "cell_type": "code",
   "execution_count": 5,
   "metadata": {
    "colab": {},
    "colab_type": "code",
    "id": "fx3Ja9zWFDj2"
   },
   "outputs": [
    {
     "name": "stderr",
     "output_type": "stream",
     "text": [
      ".vector_cache\\glove.6B.zip: 862MB [11:31, 1.25MB/s]                                                                    \n",
      "100%|██████████████████████████████████████████████████████████████████████▉| 399380/400000 [00:20<00:00, 18465.55it/s]"
     ]
    }
   ],
   "source": [
    "import torchtext\n",
    "import spacy\n",
    "\n",
    "#Embeddings\n",
    "glove = torchtext.vocab.GloVe(name='6B', dim=100)\n",
    "\n",
    "#tokenizer model\n",
    "nlp_en = spacy.load('en300')"
   ]
  },
  {
   "cell_type": "markdown",
   "metadata": {
    "colab_type": "text",
    "id": "lxjmj7vUv08E"
   },
   "source": [
    "We can now write our functions that will return the average embeddings for a sentence."
   ]
  },
  {
   "cell_type": "code",
   "execution_count": 197,
   "metadata": {
    "colab": {},
    "colab_type": "code",
    "id": "2BUi2QiCIi9y"
   },
   "outputs": [
    {
     "name": "stderr",
     "output_type": "stream",
     "text": [
      "[nltk_data] Downloading package stopwords to\n",
      "[nltk_data]     C:\\Users\\gmler\\AppData\\Roaming\\nltk_data...\n",
      "[nltk_data]   Package stopwords is already up-to-date!\n"
     ]
    }
   ],
   "source": [
    "#ENGLISH EMBEDDINGS methods from the section GERMAN-ENGLISH\n",
    "# The difference from previous section is that we will use Glove embeddings directly because we are using a smaller model that spacy doesn't have\n",
    "# We add a method to compute the word embedding and a method to compute the sentence embedding by averaging the word vectors\n",
    "\n",
    "import numpy as np\n",
    "import torch\n",
    "from nltk import download\n",
    "from nltk.corpus import stopwords\n",
    "\n",
    "#downloading stopwords from the nltk package\n",
    "download('stopwords') #stopwords dictionary, run once\n",
    "stop_words_en = set(stopwords.words('english'))\n",
    "\n",
    "\n",
    "def preprocess(sentence,nlp):\n",
    "    text = sentence.lower()\n",
    "    doc = [token.lemma_ for token in  nlp.tokenizer(text)]\n",
    "    doc = [word for word in doc if word not in stop_words_en]\n",
    "    doc = [word for word in doc if word.isalpha()] #restricts string to alphabetic characters only\n",
    "    return doc\n",
    "\n",
    "def get_word_vector(embeddings, word):\n",
    "    try:\n",
    "        vec = embeddings.vectors[embeddings.stoi[word]]\n",
    "        return vec\n",
    "    except KeyError:\n",
    "        #print(f\"Word {word} does not exist\")\n",
    "        pass\n",
    "\n",
    "def get_sentence_vector(embeddings,line):\n",
    "    vectors = []\n",
    "    for w in line:\n",
    "        emb = get_word_vector(embeddings,w)\n",
    "        #do not add if the word is out of vocabulary\n",
    "        if emb is not None:\n",
    "            vectors.append(emb)\n",
    "    return torch.mean(torch.stack(vectors), axis=0).data.numpy()\n",
    "\n",
    "\n",
    "def get_embeddings(f,embeddings,lang):\n",
    "    file = open(f, encoding=\"utf8\") \n",
    "    lines = file.readlines() \n",
    "    sentences_vectors =[]\n",
    "\n",
    "    for l in lines:\n",
    "        sentence = preprocess(l,lang)\n",
    "        try:\n",
    "            vec = get_sentence_vector(embeddings,sentence)\n",
    "            sentences_vectors.append(vec)\n",
    "        except:\n",
    "            sentences_vectors.append(np.zeros(100))\n",
    "\n",
    "    return sentences_vectors\n"
   ]
  },
  {
   "cell_type": "markdown",
   "metadata": {
    "colab_type": "text",
    "id": "f4JnbxSaaasu"
   },
   "source": [
    "#### Loading Chinese Word2Vec Embeddings"
   ]
  },
  {
   "cell_type": "markdown",
   "metadata": {
    "colab_type": "text",
    "id": "t3-NpUxd52nP"
   },
   "source": [
    "We now have to download the pre-trained embeddings for Chinese. We will get them from the University of Oslo NLPL repository (http://vectors.nlpl.eu/repository/), which has word2vec vectors of dimension 100.\n",
    "\n",
    " We will also get Chinese stop words from https://github.com/Tony607/Chinese_sentiment_analysis.\n",
    "\n",
    "For embeddings of dimensions 300 you can find them searching on github repositories. One example is https://github.com/Kyubyong/wordvectors.\n",
    "\n",
    "If you want to work on colab and download other embeddings I would suggest you download the file and upload it on your dropbox and get the link from there.\n",
    "\n"
   ]
  },
  {
   "cell_type": "code",
   "execution_count": 126,
   "metadata": {
    "colab": {},
    "colab_type": "code",
    "id": "-jW3S2-rs6BV"
   },
   "outputs": [
    {
     "name": "stderr",
     "output_type": "stream",
     "text": [
      "'wget' is not recognized as an internal or external command,\n",
      "operable program or batch file.\n",
      "'wget' is not recognized as an internal or external command,\n",
      "operable program or batch file.\n",
      "'unzip' is not recognized as an internal or external command,\n",
      "operable program or batch file.\n"
     ]
    }
   ],
   "source": [
    "\n",
    "!wget -c https://github.com/Tony607/Chinese_sentiment_analysis/blob/master/data/chinese_stop_words.txt\n",
    "\n",
    "!wget -O zh.zip http://vectors.nlpl.eu/repository/20/35.zip\n",
    "\n",
    "!unzip zh.zip "
   ]
  },
  {
   "cell_type": "markdown",
   "metadata": {
    "colab_type": "text",
    "id": "AQM6Go4rEe9N"
   },
   "source": [
    "We now load the pre-trained word2vec embeddings we downloaded using the gensim package. More info on gensim and how to use it to load models and embeddings here https://radimrehurek.com/gensim/models/word2vec.html"
   ]
  },
  {
   "cell_type": "code",
   "execution_count": 12,
   "metadata": {
    "colab": {},
    "colab_type": "code",
    "id": "uDUbXQ4aMv1K"
   },
   "outputs": [],
   "source": [
    "from gensim.models import Word2Vec\n",
    "from gensim.models import KeyedVectors\n",
    "\n",
    "wv_from_bin = KeyedVectors.load_word2vec_format(\"data/model.bin\", binary=True) "
   ]
  },
  {
   "cell_type": "markdown",
   "metadata": {
    "colab_type": "text",
    "id": "uhZ3HtrdodcW"
   },
   "source": [
    "#### Pre-processing Chinese"
   ]
  },
  {
   "cell_type": "markdown",
   "metadata": {
    "colab_type": "text",
    "id": "her8c6oJFWAa"
   },
   "source": [
    "For pre-processing chinese sentence we will use the tokenizer package for chinese called jieba and use the downloaded list of chinese stop words to remove them from our tokens. More info on jieba and its options at https://github.com/fxsjy/jieba. "
   ]
  },
  {
   "cell_type": "code",
   "execution_count": 198,
   "metadata": {
    "colab": {},
    "colab_type": "code",
    "id": "-LA9N1zgsSQl"
   },
   "outputs": [],
   "source": [
    "import string\n",
    "import jieba\n",
    "import gensim \n",
    "import spacy\n",
    "import numpy as np\n",
    "\n",
    "stop_words = [line.rstrip() for line in open('data/chinese_stop_words.txt',\"r\", encoding=\"utf-8\") ]\n",
    "\n",
    "def get_sentence_vector_zh(line, mean):\n",
    "    vectors = []\n",
    "    for w in line:\n",
    "        try:\n",
    "            emb = wv_from_bin[w]\n",
    "            vectors.append(emb)\n",
    "        except:\n",
    "            pass #Do not add if the word is out of vocabulary\n",
    "    if vectors:\n",
    "        vectors = np.array(vectors)\n",
    "        if mean:\n",
    "            vectors = np.mean(vectors) \n",
    "        else :\n",
    "            vectors = np.mean(vectors, axis=0)\n",
    "        return vectors\n",
    "    else:\n",
    "        return np.zeros(100)\n",
    "\n",
    "\n",
    "def processing_zh(sentence):\n",
    "    seg_list = jieba.lcut(sentence,cut_all=True)\n",
    "    doc = [word for word in seg_list if word not in stop_words]\n",
    "    docs = [e for e in doc if e.isalnum()]\n",
    "    return docs\n",
    "\n",
    "\n",
    "def get_sentence_embeddings_zh(f, mean=True):\n",
    "    file = open(f, encoding=\"utf8\") \n",
    "    lines = file.readlines() \n",
    "    sentences_vectors = []\n",
    "    for l in lines:\n",
    "        sent  = processing_zh(l)\n",
    "        vec = get_sentence_vector_zh(sent, mean=mean)\n",
    "        if vec is not None:\n",
    "            sentences_vectors.append(vec)\n",
    "        else:\n",
    "            print(l)\n",
    "    return sentences_vectors"
   ]
  },
  {
   "cell_type": "code",
   "execution_count": 199,
   "metadata": {
    "colab": {},
    "colab_type": "code",
    "id": "6zVjor64tR8D"
   },
   "outputs": [],
   "source": [
    "import spacy\n",
    "import torchtext\n",
    "from torchtext import data\n",
    "\n",
    "zh_train_mt = get_sentence_embeddings_zh(\"data/en-zh/train.enzh.mt\", mean=False)\n",
    "zh_train_src = get_embeddings(\"data/en-zh/train.enzh.src\",glove,nlp_en)\n",
    "f_train_scores = open(\"data/en-zh/train.enzh.scores\",'r')\n",
    "zh_train_scores = f_train_scores.readlines()\n",
    "\n",
    "zh_val_src = get_embeddings(\"data/en-zh/dev.enzh.src\",glove,nlp_en)\n",
    "zh_val_mt = get_sentence_embeddings_zh(\"data/en-zh/dev.enzh.mt\", mean=False)\n",
    "f_val_scores = open(\"data/en-zh/dev.enzh.scores\",'r')\n",
    "zh_val_scores = f_val_scores.readlines()"
   ]
  },
  {
   "cell_type": "code",
   "execution_count": 157,
   "metadata": {
    "colab": {},
    "colab_type": "code",
    "id": "N-pXbaJzExaE"
   },
   "outputs": [
    {
     "name": "stdout",
     "output_type": "stream",
     "text": [
      "Training mt: 7000 Training src: 7000\n",
      "\n",
      "Validation mt: 1000 Validation src: 1000\n"
     ]
    }
   ],
   "source": [
    "print(f\"Training mt: {len(zh_train_mt)} Training src: {len(zh_train_src)}\")\n",
    "print()\n",
    "print(f\"Validation mt: {len(zh_val_mt)} Validation src: {len(zh_val_src)}\")"
   ]
  },
  {
   "cell_type": "code",
   "execution_count": null,
   "metadata": {},
   "outputs": [],
   "source": [
    "\"\"\"\n",
    "zh_train_src = [[x.numpy().tolist()] for x in zh_train_src]\n",
    "zh_train_mt = [[x] for x in zh_train_mt]\n",
    "\n",
    "X_train= np.concatenate((zh_train_src, zh_train_mt),axis=1)\n",
    "X_train_zh = np.array(X_train).transpose()\n",
    "\n",
    "zh_val_src = [[x.numpy().tolist()] for x in zh_val_src]\n",
    "zh_val_mt = [[x] for x in zh_val_mt]\n",
    "\n",
    "X_val = np.concatenate((zh_val_src, zh_val_mt),axis=1)\n",
    "X_val_zh = np.array(X_val).transpose()\n",
    "\n",
    "#Scores\n",
    "train_scores = np.array(zh_train_scores).astype(float)\n",
    "y_train_zh =train_scores\n",
    "\n",
    "val_scores = np.array(zh_val_scores).astype(float)\n",
    "y_val_zh =val_scores\n",
    "\"\"\""
   ]
  },
  {
   "cell_type": "code",
   "execution_count": 210,
   "metadata": {
    "colab": {},
    "colab_type": "code",
    "id": "ljBHJpa9ATNf"
   },
   "outputs": [],
   "source": [
    "import numpy as np\n",
    "\n",
    "X_train = np.concatenate((np.asarray(zh_train_src), np.asarray(zh_train_mt)),axis=1) #[np.array(zh_train_src),np.array(zh_train_mt)]\n",
    "X_train_zh = np.array(X_train).transpose()\n",
    "\n",
    "X_val = np.concatenate((zh_val_src, zh_val_mt),axis=1) # [np.array(zh_val_src),np.array(zh_val_mt)]\n",
    "X_val_zh = np.array(X_val).transpose()\n",
    "\n",
    "#Scores\n",
    "train_scores = np.array(zh_train_scores).astype(float)\n",
    "y_train_zh = train_scores\n",
    "\n",
    "val_scores = np.array(zh_val_scores).astype(float)\n",
    "y_val_zh = val_scores"
   ]
  },
  {
   "cell_type": "markdown",
   "metadata": {},
   "source": [
    "#### \"Working\" Neural Net"
   ]
  },
  {
   "cell_type": "code",
   "execution_count": 220,
   "metadata": {},
   "outputs": [],
   "source": [
    "import torch.nn.functional as F\n",
    "\n",
    "class Net(torch.nn.Module):\n",
    "    def __init__(self, n_feature, n_output):\n",
    "        super(Net, self).__init__()\n",
    "        self.hidden = torch.nn.Linear(n_feature, 256)  \n",
    "        self.hidden2 = torch.nn.Linear(256, 64)\n",
    "        self.hidden3 = torch.nn.Linear(64, 16)\n",
    "        self.predict = torch.nn.Linear(16, n_output) \n",
    "\n",
    "    def forward(self, x):\n",
    "        x = F.relu(self.hidden(x))  \n",
    "        x = F.relu(self.hidden2(x))  \n",
    "        x = F.relu(self.hidden3(x))  \n",
    "        x = self.predict(x)\n",
    "        return x"
   ]
  },
  {
   "cell_type": "code",
   "execution_count": 215,
   "metadata": {},
   "outputs": [
    {
     "data": {
      "text/plain": [
       "(7000, 200)"
      ]
     },
     "execution_count": 215,
     "metadata": {},
     "output_type": "execute_result"
    }
   ],
   "source": [
    "X_train.shape"
   ]
  },
  {
   "cell_type": "code",
   "execution_count": 229,
   "metadata": {},
   "outputs": [
    {
     "name": "stdout",
     "output_type": "stream",
     "text": [
      "Steps: 0 RMSE: 0.927542712272044 Pearson 0.07956722932378313\n",
      "Steps: 500 RMSE: 0.9081007017913342 Pearson 0.16656864469635277\n",
      "Steps: 1000 RMSE: 0.9026835920917938 Pearson 0.18536981560527774\n",
      "Steps: 1500 RMSE: 0.8926709650045651 Pearson 0.2095961990177902\n",
      "Steps: 2000 RMSE: 0.8839960659962265 Pearson 0.24063280039165985\n",
      "Steps: 2500 RMSE: 0.8781146905069215 Pearson 0.272114081515593\n",
      "Steps: 3000 RMSE: 0.8688775841037109 Pearson 0.296877012921487\n",
      "Steps: 3500 RMSE: 0.862833181341426 Pearson 0.31654826224688537\n",
      "Steps: 4000 RMSE: 0.8636187333330465 Pearson 0.3173968184813423\n",
      "Steps: 4500 RMSE: 0.8617830441639641 Pearson 0.3228217672717102\n"
     ]
    },
    {
     "data": {
      "image/png": "[encoded data removed]",
      "text/plain": [
       "<Figure size 432x288 with 1 Axes>"
      ]
     },
     "metadata": {
      "needs_background": "light"
     },
     "output_type": "display_data"
    }
   ],
   "source": [
    "import matplotlib.pyplot as plt\n",
    "\n",
    "net = Net(n_feature=200, n_output=1)     # define the network\n",
    "optimizer = torch.optim.SGD(net.parameters(), lr=0.01)\n",
    "loss_func = torch.nn.MSELoss()  \n",
    "batch_size = 64\n",
    "steps = 20000\n",
    "losses = []\n",
    "\n",
    "for t in range(steps):\n",
    "    curr_bat = np.random.choice(len(X_train), batch_size, replace=False)\n",
    "    x = torch.Tensor(X_train[curr_bat])\n",
    "    y = torch.Tensor(y_train_zh[curr_bat]).view(batch_size,-1)\n",
    "    optimizer.zero_grad()\n",
    "    prediction = net(x)    \n",
    "    #print(\"prediction.shape\", prediction, \"y.shape\", y)\n",
    "    loss = loss_func(prediction, y)\n",
    "    losses += [loss.item()]\n",
    "    optimizer.zero_grad()   \n",
    "    loss.backward()        \n",
    "    optimizer.step()    \n",
    "    if t % (steps // 10) == 0:\n",
    "        with torch.no_grad():\n",
    "            predictions = net(torch.Tensor(X_val)).flatten().data.numpy()\n",
    "            pearson = pearsonr(y_val_zh, predictions)\n",
    "            print(f'Steps: {t} RMSE: {rmse(predictions,y_val_zh)} Pearson {pearson[0]}')\n",
    "plt.plot(list(range(len(losses))), losses)\n",
    "plt.xlabel(\"Steps\")\n",
    "plt.ylabel(\"Loss\")\n",
    "plt.title(\"Training\")\n",
    "plt.yscale('log')\n",
    "plt.show()\n"
   ]
  },
  {
   "cell_type": "markdown",
   "metadata": {
    "colab_type": "text",
    "id": "luNEyefram7Z"
   },
   "source": [
    "### Training the Regressor\n"
   ]
  },
  {
   "cell_type": "markdown",
   "metadata": {
    "colab_type": "text",
    "id": "hvCS6pa-yIIB"
   },
   "source": [
    "At this point,  will try SVM and Random Tree Forests and choose the model with the highest Pearson correlation.\n",
    "\n",
    "First we will define our RMSE function."
   ]
  },
  {
   "cell_type": "code",
   "execution_count": 28,
   "metadata": {
    "colab": {},
    "colab_type": "code",
    "id": "USalvKtRAvQv"
   },
   "outputs": [],
   "source": [
    "import numpy as np\n",
    "\n",
    "def rmse(predictions, targets):\n",
    "    return np.sqrt(((predictions - targets) ** 2).mean())"
   ]
  },
  {
   "cell_type": "markdown",
   "metadata": {
    "colab_type": "text",
    "id": "a0wOEUhXgteG"
   },
   "source": [
    "#### SVM"
   ]
  },
  {
   "cell_type": "markdown",
   "metadata": {
    "colab_type": "text",
    "id": "9rY29AeVyM1n"
   },
   "source": [
    "SVM have many parameters such as the kernel and the regularizating constant C. Here we will use default C = 1 and compare kernels. "
   ]
  },
  {
   "cell_type": "code",
   "execution_count": 32,
   "metadata": {
    "colab": {},
    "colab_type": "code",
    "id": "Bf_aJK0QK8jx"
   },
   "outputs": [
    {
     "name": "stdout",
     "output_type": "stream",
     "text": [
      "linear\n",
      "RMSE: 0.9565207295618879 Pearson 0.073132053605735\n",
      "\n",
      "poly\n",
      "RMSE: 0.9585148360226367 Pearson 0.04416178819673466\n",
      "\n",
      "rbf\n",
      "RMSE: 0.9566152315311454 Pearson 0.07900172085227566\n",
      "\n",
      "sigmoid\n",
      "RMSE: 279.96315201134644 Pearson 0.06130556970306792\n",
      "\n"
     ]
    }
   ],
   "source": [
    "from sklearn.svm import SVR\n",
    "from scipy.stats.stats import pearsonr\n",
    "\n",
    "for k in ['linear','poly','rbf','sigmoid']:\n",
    "    clf_t = SVR(kernel=k, gamma='scale')\n",
    "    clf_t.fit(X_train_zh, y_train_zh)\n",
    "    print(k)\n",
    "    predictions = clf_t.predict(X_val_zh)\n",
    "    pearson = pearsonr(y_val_zh, predictions)\n",
    "    print(f'RMSE: {rmse(predictions,y_val_zh)} Pearson {pearson[0]}')\n",
    "    print()"
   ]
  },
  {
   "cell_type": "markdown",
   "metadata": {
    "colab_type": "text",
    "id": "yaOP4zpOgkFP"
   },
   "source": [
    "In this case, the radial basis function kernel performed the best with a Pearson correlation of 0.1147. "
   ]
  },
  {
   "cell_type": "markdown",
   "metadata": {
    "colab_type": "text",
    "id": "Wtg69eGbgmHI"
   },
   "source": [
    "#### Random Tree Forest"
   ]
  },
  {
   "cell_type": "markdown",
   "metadata": {
    "colab_type": "text",
    "id": "OD22DmWvyPs-"
   },
   "source": [
    "Another powerful regressor is the Random Tree Forest. Here we have to choose the number of trees we want to compute and we will pick n_estimators = 1000. The higher the number the longer it will compute. To fine tune that number you could compute the error per number of trees and select the number for which there is no more significant improvement( the \"elbow\" of the graph)."
   ]
  },
  {
   "cell_type": "code",
   "execution_count": 33,
   "metadata": {
    "colab": {},
    "colab_type": "code",
    "id": "6wEoExkggqHG"
   },
   "outputs": [
    {
     "name": "stdout",
     "output_type": "stream",
     "text": [
      "RMSE: 0.9768352461211436\n",
      "Pearson 0.02805408709340327\n"
     ]
    }
   ],
   "source": [
    "# Import the model we are using\n",
    "\n",
    "from sklearn.ensemble import RandomForestRegressor\n",
    "\n",
    "rf = RandomForestRegressor(n_estimators = 1000, random_state = 666)\n",
    "rf.fit(X_train_zh, y_train_zh);\n",
    "predictions = rf.predict(X_val_zh)\n",
    "\n",
    "pearson = pearsonr(y_val_zh, predictions)\n",
    "print('RMSE:', rmse(predictions,y_val_zh))\n",
    "print(f\"Pearson {pearson[0]}\")"
   ]
  },
  {
   "cell_type": "markdown",
   "metadata": {
    "colab_type": "text",
    "id": "QWiQ2X6Lj3iG"
   },
   "source": [
    "Finally, we see that SVM with RBF kernel is the best model here. We will now use it to predict on the test set."
   ]
  },
  {
   "cell_type": "markdown",
   "metadata": {
    "colab_type": "text",
    "id": "cuIsX8LNiOJm"
   },
   "source": [
    "### Writing Results"
   ]
  },
  {
   "cell_type": "code",
   "execution_count": 0,
   "metadata": {
    "colab": {},
    "colab_type": "code",
    "id": "5SQlcfiCITuC"
   },
   "outputs": [],
   "source": [
    "import os\n",
    "\n",
    "def writeScores(method_name,scores):\n",
    "    fn = \"predictions.txt\"\n",
    "    print(\"\")\n",
    "    with open(fn, 'w') as output_file:\n",
    "        for idx,x in enumerate(scores):\n",
    "            #out =  metrics[idx]+\":\"+str(\"{0:.2f}\".format(x))+\"\\n\"\n",
    "            #print(out)\n",
    "            output_file.write(f\"{x}\\n\")\n",
    "  "
   ]
  },
  {
   "cell_type": "code",
   "execution_count": 0,
   "metadata": {
    "colab": {},
    "colab_type": "code",
    "id": "VC3ALWVEXYVi"
   },
   "outputs": [],
   "source": [
    "#EN_ZH\n",
    "\n",
    "zh_test_mt = get_sentence_embeddings_zh(\"./test.enzh.mt\")\n",
    "zh_test_src = get_embeddings(\"./test.enzh.src\",glove,nlp_en)\n",
    "\n",
    "X= [np.array(zh_test_mt),np.array(zh_test_src)]\n",
    "X_test_zh = np.array(X).transpose()\n",
    "\n",
    "#Predict\n",
    "clf_zh = SVR(kernel='rbf')\n",
    "clf_zh.fit(X_train_zh, y_train_zh)\n",
    "\n",
    "predictions_zh = clf_zh.predict(X_test_zh)\n"
   ]
  },
  {
   "cell_type": "code",
   "execution_count": 0,
   "metadata": {
    "colab": {},
    "colab_type": "code",
    "id": "r-nDAsi3Xt-4"
   },
   "outputs": [],
   "source": [
    "#EN_ZH\n",
    "\n",
    "from google.colab import files\n",
    "from zipfile import ZipFile\n",
    "\n",
    "\n",
    "writeScores(\"SVR\",predictions_zh)\n",
    "\n",
    "with ZipFile(\"en-zh_svr.zip\",\"w\") as newzip:\n",
    "    newzip.write(\"predictions.txt\")\n",
    " \n",
    "files.download('en-zh_svr.zip') "
   ]
  },
  {
   "cell_type": "markdown",
   "metadata": {
    "colab_type": "text",
    "id": "QlGblmKPyUFr"
   },
   "source": [
    "### Results"
   ]
  },
  {
   "cell_type": "markdown",
   "metadata": {
    "colab_type": "text",
    "id": "qWUSJ7kAyXxC"
   },
   "source": [
    "Once submitted to codalab, the pearson correlation is 0.0795"
   ]
  }
 ],
 "metadata": {
  "colab": {
   "collapsed_sections": [],
   "machine_shape": "hm",
   "name": "Coursework_baseline.ipynb",
   "provenance": [],
   "toc_visible": true
  },
  "kernelspec": {
   "display_name": "Python 3",
   "language": "python",
   "name": "python3"
  },
  "language_info": {
   "codemirror_mode": {
    "name": "ipython",
    "version": 3
   },
   "file_extension": ".py",
   "mimetype": "text/x-python",
   "name": "python",
   "nbconvert_exporter": "python",
   "pygments_lexer": "ipython3",
   "version": "3.7.5rc1"
  },
  "toc": {
   "base_numbering": 1,
   "nav_menu": {},
   "number_sections": false,
   "sideBar": true,
   "skip_h1_title": false,
   "title_cell": "Table of Contents",
   "title_sidebar": "Contents",
   "toc_cell": true,
   "toc_position": {
    "height": "calc(100% - 180px)",
    "left": "10px",
    "top": "150px",
    "width": "365.6px"
   },
   "toc_section_display": true,
   "toc_window_display": true
  }
 },
 "nbformat": 4,
 "nbformat_minor": 1
}
